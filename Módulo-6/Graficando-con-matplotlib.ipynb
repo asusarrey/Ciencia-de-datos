{
 "cells": [
  {
   "cell_type": "markdown",
   "id": "184c1006-c561-47d8-ae64-a587a2191075",
   "metadata": {},
   "source": [
    "### Graficando con el módulo matplotlib\n",
    "---\n",
    "\n",
    "Una de las librerías por excelencia para graficar con Pandas es usando el módulo `matplotlib`, matplotliob cuenta con muchas opciones para realizar gráficos como gráficas de barras, líneas, puntos, mapas de calor o de correlación por ejemplo."
   ]
  },
  {
   "cell_type": "markdown",
   "id": "e73555a8-c079-4fa8-818a-b17d35f2f18c",
   "metadata": {},
   "source": [
    "### Instalación\n",
    "\n",
    "Debido a que matplitlib no forma parte de la librería estándar, es necesario instalar el módulo usando el siguiente comando:"
   ]
  },
  {
   "cell_type": "code",
   "execution_count": null,
   "id": "c27ecb32-3e1a-4998-b581-a1e8092735b4",
   "metadata": {},
   "outputs": [],
   "source": [
    "!pip install matplotlib"
   ]
  },
  {
   "cell_type": "markdown",
   "id": "73ca602a-eef1-4cf5-86a4-b38c702bd991",
   "metadata": {},
   "source": [
    "Y para conocer más acerca del módulo o tener acceso a la documentación oficial se puede cosultar en el sitio:\n",
    "\n",
    "- https://matplotlib.org\n",
    "\n",
    "Ahora vamos a revisar el procedimiento para realizar nuestra primera gráfico de pastel y es como se muestra a continuación:\n",
    "\n",
    "```\n",
    "import matplotlib.pyplot as plt\n",
    "\n",
    "fig, ax = plt.subplots()\n",
    "ax.pie(-array-X-, labels=-lista-ertiquetas-, autopct=\"%1.1f%%\")\n",
    "plt.savefig(\"nombre.ext\")\n",
    "plt.show()\n",
    "```\n",
    "\n",
    "Vamos a copiar y personalizar éste código para crear una gráfica de pastel que represente los datos del porciento de participación de la serie de `participacion`:"
   ]
  },
  {
   "cell_type": "code",
   "execution_count": 2,
   "id": "ffbba909-6c26-4067-9c3c-2a7f0ce35082",
   "metadata": {},
   "outputs": [
    {
     "data": {
      "text/plain": [
       "Ellipsis"
      ]
     },
     "execution_count": 2,
     "metadata": {},
     "output_type": "execute_result"
    }
   ],
   "source": [
    "..."
   ]
  }
 ],
 "metadata": {
  "kernelspec": {
   "display_name": "Python 3 (ipykernel)",
   "language": "python",
   "name": "python3"
  },
  "language_info": {
   "codemirror_mode": {
    "name": "ipython",
    "version": 3
   },
   "file_extension": ".py",
   "mimetype": "text/x-python",
   "name": "python",
   "nbconvert_exporter": "python",
   "pygments_lexer": "ipython3",
   "version": "3.11.4"
  }
 },
 "nbformat": 4,
 "nbformat_minor": 5
}
