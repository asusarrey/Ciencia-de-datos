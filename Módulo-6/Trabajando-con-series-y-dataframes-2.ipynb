{
 "cells": [
  {
   "cell_type": "markdown",
   "id": "8db36c63-5c75-4b09-932a-165629ef2bd0",
   "metadata": {},
   "source": [
    "**Módulo 6:** Trabajando con Series y DataFrames"
   ]
  },
  {
   "cell_type": "markdown",
   "id": "0518d5ef-1707-4606-9a42-218b8a76ad43",
   "metadata": {},
   "source": [
    "## Acostumbrándose a las Estructuras de Datos de Pandas\n",
    "---"
   ]
  },
  {
   "cell_type": "code",
   "execution_count": null,
   "id": "5ce4302f-0d42-43bf-9ace-cfb97a84e2cd",
   "metadata": {},
   "outputs": [],
   "source": [
    "import pandas as pd"
   ]
  },
  {
   "cell_type": "markdown",
   "id": "30e5d449-af9d-48cf-9490-ce83e126d053",
   "metadata": {
    "editable": true,
    "slideshow": {
     "slide_type": ""
    },
    "tags": []
   },
   "source": [
    "### Creando DataFrames"
   ]
  },
  {
   "cell_type": "markdown",
   "id": "6d0b07cd-63e4-40ef-9b03-32622112f261",
   "metadata": {},
   "source": [
    "Para crear un DataFrame se usa la función o constructor `pd.DataFrame()`, por ejemplo para crear el dataframe que represente la siguiente tabla de datos pordríamos partir de una lista de listas por ejemplo:\n",
    "\n",
    "`tabla = [[1,2,3], [4,5,6], [7,8,9]]`\n",
    "\n",
    "y entonces crear el DataFrame:\n",
    "\n",
    "`df_tabla = pd.DataFrame(tabla)`"
   ]
  },
  {
   "cell_type": "code",
   "execution_count": null,
   "id": "5f9c9767-479a-4715-a9f6-09d19d74c8e8",
   "metadata": {},
   "outputs": [],
   "source": [
    "tabla = [[1,2,3], [4,5,6], [7,8,9]]"
   ]
  },
  {
   "cell_type": "code",
   "execution_count": null,
   "id": "204a4be5-9512-4778-af42-ffcd33b2b4f3",
   "metadata": {},
   "outputs": [],
   "source": [
    "df_tabla = "
   ]
  },
  {
   "cell_type": "markdown",
   "id": "36c7ae1c-598f-42ec-a21e-84e32bf137c4",
   "metadata": {},
   "source": [
    "Comose puede ver un DataFrame nos ayuda a representar información de tipo tabular y si no indicamos nada más los índices son numéricos iniciando en 0 como en las series y las etiquetas de las columnas siguen la misma regla, así que si se desea obtener la columna 0 se usaría la forma:\n",
    "\n",
    "`df[columna]`"
   ]
  },
  {
   "cell_type": "code",
   "execution_count": null,
   "id": "3d1b50e2-34cb-4576-9628-20e5e146ccb0",
   "metadata": {},
   "outputs": [],
   "source": []
  },
  {
   "cell_type": "markdown",
   "id": "5f301557-1140-4890-bfe2-33fd799a4076",
   "metadata": {},
   "source": [
    "O por ejemplo podría obtener la última fila usando la notación:\n",
    "\n",
    "`df.loc[-indice de fila-]`"
   ]
  },
  {
   "cell_type": "code",
   "execution_count": null,
   "id": "1194d16a-66ee-468f-b2ed-76b4d1283919",
   "metadata": {},
   "outputs": [],
   "source": []
  },
  {
   "cell_type": "markdown",
   "id": "f0fd32d5-75d7-4315-bfcc-3f33a6f647fc",
   "metadata": {},
   "source": [
    "Aunque con ésta última notación podríamos acceder tanto a filas o columnas usando la forma:\n",
    "\n",
    "`df.loc[filas, columnas]`"
   ]
  },
  {
   "cell_type": "code",
   "execution_count": null,
   "id": "2454d44a-19cf-4e29-8434-18d2c3985db2",
   "metadata": {},
   "outputs": [],
   "source": []
  },
  {
   "cell_type": "markdown",
   "id": "595de2e1-cd74-40f5-98d6-8b7741891143",
   "metadata": {},
   "source": [
    "Y al igual que con la series podemos incializar un DataFrame con índices y etiquetas de columnas distintos usando la forma:\n",
    "\n",
    "`pd.DataFrame(datos, index=lista, labels=lista)`\n",
    "\n",
    "Por ejemplo si contamos con la siguiente lista de listas, donde cada fila contiene el nombre del vendedor, ventas del 2020 y el porciento de participación:"
   ]
  },
  {
   "cell_type": "code",
   "execution_count": null,
   "id": "6090ae3b-4183-424d-94fd-504aafdb8973",
   "metadata": {},
   "outputs": [],
   "source": [
    "datos = [('Intel', 70244, 15.61539932153353),\n",
    " ('Samsung Electronics', 56197, 12.492719601278683),\n",
    " ('SK hynix', 25271, 5.617800185844682),\n",
    " ('Micron Technology', 22098, 4.912435143318261),\n",
    " ('Qualcomm', 17906, 3.9805441069896275),\n",
    " ('Broadcom', 15695, 3.489033829956562),\n",
    " ('Texas Instruments', 13074, 2.906379630000133),\n",
    " ('MediaTek', 11008, 2.447103179366794),\n",
    " ('KIOXIA', 10208, 2.269261378540719),\n",
    " ('Nvidia', 10095, 2.244141224174036),\n",
    " ('Others (outside top 10)', 198042, 44.02518239899697)]"
   ]
  },
  {
   "cell_type": "markdown",
   "id": "fe1c6119-be87-400d-8ad4-96d9ec224609",
   "metadata": {},
   "source": [
    "Entonces si deseamos construir nuestro DataFrame donde el índice se comienza a numerar desde 1 y las columnas tienen las etiquetas:\n",
    "\n",
    "`\"Vendedor\", \"Ventas 2020\", \"Partipación (%)\"`\n",
    "\n",
    "El resultado sería:"
   ]
  },
  {
   "cell_type": "code",
   "execution_count": null,
   "id": "fd1b411c-05c0-40c8-b694-5150d47bbe89",
   "metadata": {},
   "outputs": [],
   "source": [
    "columnas = [\"Vendedor\", \"Ventas 2020\", \"Participación (%)\"]\n",
    "df_tabla = "
   ]
  },
  {
   "cell_type": "markdown",
   "id": "b58b636d-833e-4005-91dd-1c59b01595fb",
   "metadata": {},
   "source": [
    "Y si quisiéramos aplicar funciones de agregación como `df.sum()` a todas las columnas, sería por ejemplo aplicarlo a columnas de tipo numérico, así que podemos seleccionar las columnas y aplicar la función usando la forma:\n",
    "\n",
    "`df[ -lista-columnas- ].sum()`"
   ]
  },
  {
   "cell_type": "code",
   "execution_count": null,
   "id": "390987e0-2c39-432c-ae47-49b04e15f679",
   "metadata": {},
   "outputs": [],
   "source": [
    "df_tabla[  ].sum()"
   ]
  },
  {
   "cell_type": "markdown",
   "id": "d6a91a7e-b94d-4e87-a6af-19f9fc8b2303",
   "metadata": {},
   "source": [
    "También podemos crear DataFrames usando diccionarios usando la forma:\n",
    "\n",
    "`pd.DataFrame(-diccionario-, ...)`\n",
    "\n",
    "Sólo que el diccionario debe seguir siertos criterios y debe tener la forma siguiente:\n",
    "\n",
    "```\n",
    "datos_dict = {\n",
    "    \"col1\": [ -datos col 1-],\n",
    "    \"col2\": [ -datos col 2-],\n",
    "    \"colN\": [ -datos col N-],\n",
    "}\n",
    "```\n",
    "Así que las llaves serán las etiquetas de las columnas y la listas los datos de las columnas, pero todas las listas deberán de tener la misma cantidad de datos.\n",
    "\n",
    "Por ejemplo para crear el mismo DataFrame de Vendedores de chips usando un diccionarios se deberá usar el siguiente:"
   ]
  },
  {
   "cell_type": "code",
   "execution_count": null,
   "id": "5762df9a-ca65-40f4-9718-624b9cd362fe",
   "metadata": {},
   "outputs": [],
   "source": [
    "datos = {\n",
    "    'Vendedor': ['Intel', 'Samsung Electronics', 'SK hynix', 'Micron Technology',\n",
    "                 'Qualcomm', 'Broadcom', 'Texas Instruments', 'MediaTek', 'KIOXIA',\n",
    "                 'Nvidia', 'Others (outside top 10)'],\n",
    "    'Ventas 2020': [70244, 56197, 25271, 22098, 17906, 15695, 13074, 11008, 10208,\n",
    "                    10095, 198042],\n",
    "    'Participación (%)': [15.61539932153353, 12.492719601278683, 5.617800185844682,\n",
    "                          4.912435143318261, 3.9805441069896275, 3.489033829956562,\n",
    "                          2.906379630000133, 2.447103179366794, 2.269261378540719,\n",
    "                          2.244141224174036, 44.02518239899697]\n",
    "}"
   ]
  },
  {
   "cell_type": "markdown",
   "id": "1327479b-1110-434f-9824-448b410813b3",
   "metadata": {},
   "source": [
    "Y ahora creamos el DataFrame, si deseamos que el índice comience en 1, entonces usaríamos la forma:\n",
    "\n",
    "`pd.DataFrame(datos, index=-lista de índices-)`"
   ]
  },
  {
   "cell_type": "code",
   "execution_count": null,
   "id": "692715f3-9cf9-4f68-9796-caa4acf95640",
   "metadata": {},
   "outputs": [],
   "source": [
    "df_tabla = "
   ]
  },
  {
   "cell_type": "markdown",
   "id": "f465daa4-12a1-49ff-9685-cae6004c1d41",
   "metadata": {},
   "source": [
    "### Exportando e importando datos de un DataFrame"
   ]
  },
  {
   "cell_type": "markdown",
   "id": "4257dc1c-05b4-44d4-ae0b-0bc8d1957e60",
   "metadata": {},
   "source": [
    "Pandas cuenta con varias funciones para exportare importar DataFrames y unas de las más usadas son las que nos permiten exportar e importar datos a archivos en formato CSV o JSON y alternativamente en formato Excel.\n",
    "\n",
    "Primero vamos a revisar la exportación, para ello se usa la forma:\n",
    "\n",
    "`df.to_FORMATO(-parámetros-)`\n",
    "\n",
    "Donde FORMATO indica generalmente el formato al que deseamos exportar, por ejemplo para exportar a CSV o JSON se podrían usar las funciones:\n",
    "\n",
    "```\n",
    "df.to_csv(-nombre-archivo-, encoding=\"utf-8\")\n",
    "df.to_json(-nombre-archivo-, indent=4)\n",
    "```\n",
    "\n",
    "Por ejemplo, exporta el DataFrame de Vendedores en ambos formatos creando los archivos `vendedores-chips.csv` y `vendedores-chips.json`:"
   ]
  },
  {
   "cell_type": "code",
   "execution_count": null,
   "id": "3345468e-8ac6-41af-86fd-e07965fe8016",
   "metadata": {},
   "outputs": [],
   "source": []
  },
  {
   "cell_type": "code",
   "execution_count": null,
   "id": "585a1c34-e32f-415f-aa62-a5be590a61b1",
   "metadata": {},
   "outputs": [],
   "source": []
  },
  {
   "cell_type": "markdown",
   "id": "094cff0d-6eba-4082-a668-316cafb009d6",
   "metadata": {},
   "source": [
    "Para la importación de datos a un DataFrame es similar a la exportación la forma es la siguiente:\n",
    "\n",
    "`df.read_FORMATO(-parámetros-)`\n",
    "\n",
    "Donde FORMATO nuevamente indica el formato del que deseamos importar y en el caso de CSV y JSON las funciones serían:\n",
    "\n",
    "```\n",
    "df.read_csv(-nombre archivo-, encoding=\"utf-8\", index_col=-nombre de columna-)\n",
    "df.read_json(-nombre archivo-)\n",
    "```\n",
    "\n",
    "Por ejemplo vamos a importar ambos DataFrames en las variables `tabla_csv` y `tabla_json` respectivamente:"
   ]
  },
  {
   "cell_type": "code",
   "execution_count": null,
   "id": "b661381c-2994-40a6-9288-532ce2e0cbc1",
   "metadata": {},
   "outputs": [],
   "source": [
    "tabla_csv = "
   ]
  },
  {
   "cell_type": "code",
   "execution_count": null,
   "id": "3cfcd20e-b087-4114-9c02-04faa40e652b",
   "metadata": {},
   "outputs": [],
   "source": [
    "tabla_json = "
   ]
  },
  {
   "cell_type": "markdown",
   "id": "415644a0-00c9-4f29-bf74-6ca2c38e5d8f",
   "metadata": {
    "editable": true,
    "slideshow": {
     "slide_type": ""
    },
    "tags": []
   },
   "source": [
    "### Exploración de datos"
   ]
  },
  {
   "cell_type": "markdown",
   "id": "3c77ba73-bb22-4b29-9a2f-7062d885edf9",
   "metadata": {},
   "source": [
    "Debido a que los DataFrames representan tablas de datos cuentam con elementos que nos permite conocer la naturaleza de la información.\n",
    "\n",
    "Por ejemplo si deseamos conocer el tamaño del DataFrame usamos:\n",
    "\n",
    "`df.shape`"
   ]
  },
  {
   "cell_type": "code",
   "execution_count": null,
   "id": "4eb32b61-0269-4d8d-90ee-7cf9e2654395",
   "metadata": {},
   "outputs": [],
   "source": []
  },
  {
   "cell_type": "markdown",
   "id": "e2c16ba4-36f6-4a09-adb1-20b547c6fbb0",
   "metadata": {},
   "source": [
    "Si necesitamos conocer cuales son los tipos de datos que ha asignado Pandas a cada columna de datos podemos hacer uso de la propiedad:\n",
    "\n",
    "`df.dtypes`\n",
    "\n",
    "Por ejemplo veamos como fueron reconocidas las columnas de los dataframes `tabla_csv` y `tabla_json`:"
   ]
  },
  {
   "cell_type": "code",
   "execution_count": null,
   "id": "49481c7c-98da-46a0-88e4-34101c8a90b8",
   "metadata": {},
   "outputs": [],
   "source": []
  },
  {
   "cell_type": "code",
   "execution_count": null,
   "id": "4b27fc8e-c264-4057-9e64-c9e46a054feb",
   "metadata": {},
   "outputs": [],
   "source": []
  },
  {
   "cell_type": "markdown",
   "id": "b5736bfa-73ad-430e-b62a-9ee706cde420",
   "metadata": {},
   "source": [
    "También podemos obtener una muestra de las primeras filas o las últimas filas del DataFrame usando las funciones:\n",
    "\n",
    "```\n",
    "df.head()\n",
    "df.tail()\n",
    "```\n",
    "\n",
    "Por ejemplo podemos examinar las primeras 3 filas y las últimas 5 filas del dataframe `tabla_json`:"
   ]
  },
  {
   "cell_type": "code",
   "execution_count": null,
   "id": "7141c2ec-c93b-4c29-9546-aa6ff392ffcf",
   "metadata": {},
   "outputs": [],
   "source": []
  },
  {
   "cell_type": "code",
   "execution_count": null,
   "id": "109bd1c3-216f-481a-baee-dfdca59525a4",
   "metadata": {},
   "outputs": [],
   "source": []
  },
  {
   "cell_type": "markdown",
   "id": "ed3d3088-6c29-4ef9-98ed-c3575969d3a6",
   "metadata": {
    "editable": true,
    "slideshow": {
     "slide_type": ""
    },
    "tags": []
   },
   "source": [
    "### Limpieza de datos"
   ]
  },
  {
   "cell_type": "markdown",
   "id": "35f06271-44fd-4e52-a989-820de5092217",
   "metadata": {},
   "source": [
    "O si prefieres usar una fecha en formato `datetime` nuevamente se podría usar la función de Pandas `pd.to_datetime()`"
   ]
  },
  {
   "cell_type": "code",
   "execution_count": null,
   "id": "cbc3dedc-e5e5-4d4c-a9fa-5910e48c58d0",
   "metadata": {},
   "outputs": [],
   "source": [
    "vendedores_sucio = pd.read_csv(\"vendedores-chips-sucio.csv\", encoding=\"utf-8\", index_col=0)\n",
    "vendedores_sucio"
   ]
  },
  {
   "cell_type": "markdown",
   "id": "12e8e503-3692-47c3-b1be-333a4408a18c",
   "metadata": {},
   "source": [
    "Lo primero es identificar las posiciones donde tenemos datos incompletos o nulos y para eso usamos una combinación de funciones:\n",
    "\n",
    "`df.isna()` que nos permite marcar con un valor **True** en la celda donde exista un valor nulo\n",
    "`df.isna().sum()` y encadenando la función `sum()` podemos determinar el número de valores nulos por columna.\n",
    "\n",
    "Veamos el resultado para el dataframe `vendedores_sucio`:"
   ]
  },
  {
   "cell_type": "code",
   "execution_count": null,
   "id": "bf0a7141-70ec-4d4f-8cea-d9d81d48c5c6",
   "metadata": {},
   "outputs": [],
   "source": []
  },
  {
   "cell_type": "code",
   "execution_count": null,
   "id": "fa68db6f-2fd1-4f8e-9435-62014dbbf457",
   "metadata": {},
   "outputs": [],
   "source": []
  },
  {
   "cell_type": "markdown",
   "id": "3cb989f0-ea8a-40d3-8140-2507d441055e",
   "metadata": {},
   "source": [
    "Ahora toca decidir que hacer con los valores nulos encontrados, por ejemplo para el caso de las filas que contienen algún nulo nos interesa eliminar las filas ya que carecen de significado y para el caso de las columnas toda la columna de Participación se puede eliminar ya que todos los valores son nulos.\n",
    "\n",
    "Para eliminar valores nulos Pandas cuenta con la función:\n",
    "\n",
    "`df.dropna(axis=0, how=\"any\")`\n",
    "\n",
    "Donde `axis` con valor 0 indica que procesará los datos por indices, o sea por filas y si es un valor de 1 lo procesará por columnas y `how` con el valor de `any` indica elimina cualquier fila o columna donde exista algún valor nulo, o sea, con que exista un valor nulo la fila o columna serán eliminados, si deseamos eliminar sólo las filas o columnas donde todos los valores son nulso, entoces se debe usar el valor `all`\n",
    "\n",
    "Eliminemos primero la columna de **Participación** ya que todos los valores son nulos usando la forma:\n",
    "\n",
    "`df.dropna(axis=1, how=\"all\")`\n",
    "\n",
    "Y asignamos el resultado a la variable `vendedores_sucio_1`:"
   ]
  },
  {
   "cell_type": "code",
   "execution_count": null,
   "id": "932b197a-bf71-4b31-bdb9-d92fc90e5a21",
   "metadata": {},
   "outputs": [],
   "source": [
    "vendedores_sucio_1 = "
   ]
  },
  {
   "cell_type": "markdown",
   "id": "644a74fd-5b94-4bba-8a0d-12ae1c861918",
   "metadata": {},
   "source": [
    "Ahora vamos a eliminar las filas donde existe al menos un valor nulo usando alguna de las siguientes formas:\n",
    "\n",
    "`df.dropna(axis=0, how=\"any\")`\n",
    "\n",
    "o\n",
    "\n",
    "`df.dropna()`\n"
   ]
  },
  {
   "cell_type": "code",
   "execution_count": null,
   "id": "3b62626b-0268-4517-81af-c40d63a4c843",
   "metadata": {},
   "outputs": [],
   "source": [
    "vendedores_limpio = "
   ]
  },
  {
   "cell_type": "markdown",
   "id": "a69e103d-4c7f-4cce-a103-aeb7433f2173",
   "metadata": {},
   "source": [
    "Finalmente guarda el dataframe en el archivo `vendedores-chips-limpio,.csv` para su posterior uso:"
   ]
  },
  {
   "cell_type": "code",
   "execution_count": null,
   "id": "767495a1-509d-4880-8788-f1867effe9b3",
   "metadata": {},
   "outputs": [],
   "source": []
  }
 ],
 "metadata": {
  "kernelspec": {
   "display_name": "Python 3 (ipykernel)",
   "language": "python",
   "name": "python3"
  },
  "language_info": {
   "codemirror_mode": {
    "name": "ipython",
    "version": 3
   },
   "file_extension": ".py",
   "mimetype": "text/x-python",
   "name": "python",
   "nbconvert_exporter": "python",
   "pygments_lexer": "ipython3",
   "version": "3.11.4"
  }
 },
 "nbformat": 4,
 "nbformat_minor": 5
}
