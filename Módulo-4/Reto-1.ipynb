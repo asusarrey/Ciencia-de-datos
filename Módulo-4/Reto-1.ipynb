{
 "cells": [
  {
   "cell_type": "markdown",
   "id": "2cce972b-2e8e-4b9c-9b30-9034c7d83262",
   "metadata": {},
   "source": [
    "# Reto 1: Lista de todos los archivos de tipo texto\n",
    "\n",
    "## Descripción\n",
    "Obtener la lista de todos los archivos de tipo texto a partir de una carpeta proporcionada por el usuario incluyendo todas las subcarpetas. Algunas de las extensiones de archivos de tipo texto son `.txt`, `.py`, `.csv`, `.html`, `.json`, etc.\n",
    "\n",
    "Pero ¿será conveniente filtrar los archivos sólo por su extensión? ¿Habrá alguna otra forma de determinar si un archivo es de tipo texo? ¿Has oido hablar de los tipos mime (mimetypes)?\n",
    "\n",
    "Por ejemplo si se tuviera unas carpetas con los siguientes archivos:\n",
    "\n",
    "```\n",
    "carpeta/\n",
    "|- archivo1.txt\n",
    "|- archivo2.txt\n",
    "|- archivo3.exe\n",
    "|- archivo4.xlsx\n",
    "|- subcarpeta/\n",
    "   |- archivo5.html\n",
    "   |- archivo6.jpg\n",
    "   |- archivo7.png\n",
    "   |- archivo8.csv\n",
    "```\n",
    "El resultado debería de ser el siguiente:\n",
    "```\n",
    "/carpeta/archivo1.txt\n",
    "/carpeta/archivo2.txt\n",
    "/carpeta/subcarpeta/archivo5.html\n",
    "/carpeta/subcarpeta/archivo8.csv\n",
    "```\n",
    "\n",
    "El reto consiste de dos partes:\n",
    "\n",
    "1. Complementa éste Notebook hasta obtener el resultado solicitado\n",
    "2. Crea un script en python llamado `lst.py` que al ser ejecutado en una Consola o Terminal para el caso de la carpeta de ejemplo muestre lo siguiente:\n",
    "\n",
    "```bash\n",
    "$ python lst.py carpeta\n",
    "/carpeta/archivo1.txt\n",
    "/carpeta/archivo2.txt\n",
    "/carpeta/subcarpeta/archivo5.html\n",
    "/carpeta/subcarpeta/archivo8.csv\n",
    "$\n",
    "```"
   ]
  },
  {
   "cell_type": "markdown",
   "id": "4ac02b97-5c3a-4343-b61d-4bc99242eb2a",
   "metadata": {},
   "source": [
    "## Desarrollo\n",
    "\n",
    "El desarrollo se realiza utilizando una meotodología de lo general a lo particular, así que primero se planea una solución a nivel general y se hace uso de la programación modular creando funciones que aún no existen, pero que hagan justo lo que necesitamos, así que la primera aproximación sería:"
   ]
  },
  {
   "cell_type": "code",
   "execution_count": 4,
   "id": "37627287-c803-4f1f-a0ca-9e005fbb7eba",
   "metadata": {},
   "outputs": [
    {
     "name": "stdin",
     "output_type": "stream",
     "text": [
      "Escribe la carpeta  .\n"
     ]
    },
    {
     "name": "stdout",
     "output_type": "stream",
     "text": [
      "La lista de archivos de texto es:\n",
      "carpeta/archivo3.exe\n",
      "carpeta/archivo1.txt\n",
      "carpeta/archivo2.txt\n",
      "carpeta/archivo4.xlsx\n",
      "carpeta/subcarpeta/archivo8.csv\n",
      "carpeta/subcarpeta/archivo7.png\n",
      "carpeta/subcarpeta/archivo5.html\n",
      "carpeta/subcarpeta/archivo6.jpg\n",
      "clientes-pedidos.sqlite3\n",
      "Trabajando-con-bases-de-datos.ipynb\n",
      "carpeta.zip\n",
      "peliculas.sqlite3\n",
      ".ipynb_checkpoints/Reto-1-checkpoint.ipynb\n",
      ".ipynb_checkpoints/Trabajando-con-bases-de-datos-checkpoint.ipynb\n",
      ".ipynb_checkpoints/lst-checkpoint.ipynb\n",
      "refs/lst.ipynb\n",
      "refs/crear-tablas.mysql\n",
      "refs/clientes-pedidos.sqlite3\n",
      "refs/registros-ejemplo.mysql\n",
      "refs/Trabajando-con-bases-de-datos.ipynb\n",
      "refs/.ipynb_checkpoints/Reto-1-checkpoint.ipynb\n",
      "refs/.ipynb_checkpoints/intel-checkpoint.mysql\n",
      "refs/.ipynb_checkpoints/Trabajando-con-bases-de-datos-checkpoint.ipynb\n",
      "refs/.ipynb_checkpoints/registros-ejemplo-checkpoint.sql\n",
      "refs/.ipynb_checkpoints/crear-tablas-checkpoint.mysql\n",
      "refs/.ipynb_checkpoints/crear-tablas-checkpoint.sql\n",
      "refs/.ipynb_checkpoints/registros-ejemplo-checkpoint.mysql\n",
      "refs/.ipynb_checkpoints/lst-checkpoint.ipynb\n",
      "refs/estados-mx.sqlite3\n",
      "refs/lst.py\n",
      "refs/registros-ejemplo.sql\n",
      "refs/Reto-1.ipynb\n",
      "refs/crear-tablas.sql\n",
      "refs/intel.mysql\n",
      "Reto-1.ipynb\n",
      "eatados-mx.sqlite3\n",
      "intel.mysql\n"
     ]
    }
   ],
   "source": [
    "import pathlib\n",
    "\n",
    "# Se obtiene carpeta desde el usuario\n",
    "ruta_str = input(\"Escribe la carpeta \")\n",
    "ruta = pathlib.Path(ruta_str)\n",
    "\n",
    "# Se obtiene la lista de archivos a partir de ruta\n",
    "archivos = obtener_archivos_texto(ruta)  # Se asume que existirá una función que resolverá la tarea\n",
    "\n",
    "# Se imprime la lista\n",
    "print(\"La lista de archivos de texto es:\")\n",
    "for nom in archivos:\n",
    "    print(nom)"
   ]
  },
  {
   "cell_type": "markdown",
   "id": "0baf93cf-cc10-4454-85a9-296c94b5f9a4",
   "metadata": {},
   "source": [
    "Así que nos falta crear la función `obtener_archivos_texto()`, así que vamos a ello:"
   ]
  },
  {
   "cell_type": "code",
   "execution_count": 3,
   "id": "e1cbbfc4-09b7-497c-a5a1-1fdfa1f2309d",
   "metadata": {},
   "outputs": [],
   "source": [
    "def obtener_archivos_texto(ruta):\n",
    "    \"\"\" Obtiene la lista de archivos de ruta y regresa sólo los que son\n",
    "    archivos de texto \"\"\"\n",
    "    archivos = []\n",
    "    for item in ruta.iterdir():  # como ruta es de tipo PosixPath o WindowsPath\n",
    "        if item.is_file():  # Si el item es un archivo lo agregamos a la lista\n",
    "            ## Complementa con un if y una función para determinar si el archivo es de\n",
    "            ## texto entonces lo agregamos a la lista, si no, no hacemos nada y pasamos\n",
    "            ## al siguiente\n",
    "            archivos.append(item)\n",
    "        else:  # Si el item no es un archivo entonces es una carpeta y otenemos la lista de arcivos\n",
    "            lista_archivos_subruta = obtener_archivos_texto(item)  # <-ruta\n",
    "            archivos = archivos + lista_archivos_subruta  # Lo concatemos a la lista de archivos[]\n",
    "    return archivos"
   ]
  },
  {
   "cell_type": "markdown",
   "id": "afa09200-83dc-44dd-9d0b-8fa72e8dc6ba",
   "metadata": {},
   "source": [
    "**Sugerencias:**\n",
    "\n",
    "- Realiza una copia de la celda de código anterior y modifícala hasta obtener el resultado esperado.\n",
    "- Crea una función llamada `es_archivo_texto(nombre_archivo)` que al pasarle la ruta y nombre de un archivo regrese `True`si el archivo es de texto o `False` si no lo es, luego emplea esa función con un `if` para decidir si se agrega o no el archivo a la lista.\n",
    "- Revisa la documentación del módulo [mimetypes](https://docs.python.org/3/library/mimetypes.html) puede ser útil para determinar si un archivo es de texto o puedes crear tu propia lista de extensiones de archivos válidas como archivos de texto (`[\".csv\", \".txt\", \".json\", ...]`)\n",
    "- Usa la `carpeta/` de ejemplo para revisar tu resultado, pero debería de funcionar con cualquier carpeta."
   ]
  },
  {
   "cell_type": "code",
   "execution_count": null,
   "id": "c9019b2e-e847-4eb5-b339-458e67f51fb4",
   "metadata": {},
   "outputs": [],
   "source": []
  }
 ],
 "metadata": {
  "kernelspec": {
   "display_name": "Python 3 (ipykernel)",
   "language": "python",
   "name": "python3"
  },
  "language_info": {
   "codemirror_mode": {
    "name": "ipython",
    "version": 3
   },
   "file_extension": ".py",
   "mimetype": "text/x-python",
   "name": "python",
   "nbconvert_exporter": "python",
   "pygments_lexer": "ipython3",
   "version": "3.11.4"
  }
 },
 "nbformat": 4,
 "nbformat_minor": 5
}
