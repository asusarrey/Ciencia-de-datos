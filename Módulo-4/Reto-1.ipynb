{
 "cells": [
  {
   "cell_type": "markdown",
   "id": "2cce972b-2e8e-4b9c-9b30-9034c7d83262",
   "metadata": {},
   "source": [
    "# Reto 1: Lista de todos los archivos de tipo texto\n",
    "\n",
    "## Descripción\n",
    "Obtener la lista de todos los archivos de tipo texto a partir de una carpeta proporcionada por el usuario incluyendo todas las subcarpetas. Algunas de las extensiones de archivos de tipo texto son `.txt`, `.py`, `.csv`, `.html`, `.json`, etc.\n",
    "\n",
    "Pero ¿será conveniente filtrar los archivos sólo por su extensión? ¿Habrá alguna otra forma de determinar si un archivo es de tipo texo? ¿Has oido hablar de los tipos mime (mimetypes)?\n",
    "\n",
    "Por ejemplo si se tuviera unas carpetas con los siguientes archivos:\n",
    "\n",
    "```\n",
    "carpeta/\n",
    "|- archivo1.txt\n",
    "|- archivo2.txt\n",
    "|- archivo3.exe\n",
    "|- archivo4.xlsx\n",
    "|- subcarpeta/\n",
    "   |- archivo5.html\n",
    "   |- archivo6.jpg\n",
    "   |- archivo7.png\n",
    "   |- archivo8.csv\n",
    "```\n",
    "El resultado debería de ser el siguiente:\n",
    "```\n",
    "/carpeta/archivo1.txt\n",
    "/carpeta/archivo2.txt\n",
    "/carpeta/subcarpeta/archivo5.html\n",
    "/carpeta/subcarpeta/archivo8.csv\n",
    "```\n",
    "\n",
    "El reto consiste de dos partes:\n",
    "\n",
    "1. Complementa éste Notebook hasta obtener el resultado solicitado\n",
    "2. Crea un script en python llamado `lst.py` que al ser ejecutado en una Consola o Terminal para el caso de la carpeta de ejemplo muestre lo siguiente:\n",
    "\n",
    "```bash\n",
    "$ python lst.py carpeta\n",
    "/carpeta/archivo1.txt\n",
    "/carpeta/archivo2.txt\n",
    "/carpeta/subcarpeta/archivo5.html\n",
    "/carpeta/subcarpeta/archivo8.csv\n",
    "$\n",
    "```"
   ]
  },
  {
   "cell_type": "markdown",
   "id": "4ac02b97-5c3a-4343-b61d-4bc99242eb2a",
   "metadata": {},
   "source": [
    "## Desarrollo\n",
    "\n",
    "El desarrollo se realiza utilizando una meotodología de lo general a lo particular, así que primero se planea una solución a nivel general y se hace uso de la programación modular creando funciones que aún no existen, pero que hagan justo lo que necesitamos, así que la primera aproximación sería:"
   ]
  },
  {
   "cell_type": "code",
   "execution_count": 7,
   "id": "37627287-c803-4f1f-a0ca-9e005fbb7eba",
   "metadata": {},
   "outputs": [
    {
     "name": "stdin",
     "output_type": "stream",
     "text": [
      "Escribe la carpeta  .\n"
     ]
    },
    {
     "name": "stdout",
     "output_type": "stream",
     "text": [
      "La lista de archivos de texto es:\n",
      "lst.ipynb\n",
      "crear-tablas.mysql\n",
      ".lst.py.swp\n",
      "clientes-pedidos.sqlite3\n",
      "registros-ejemplo.mysql\n",
      "Trabajando-con-bases-de-datos.ipynb\n",
      ".ipynb_checkpoints/intel-checkpoint.mysql\n",
      ".ipynb_checkpoints/Trabajando-con-bases-de-datos-checkpoint.ipynb\n",
      ".ipynb_checkpoints/registros-ejemplo-checkpoint.sql\n",
      ".ipynb_checkpoints/crear-tablas-checkpoint.mysql\n",
      ".ipynb_checkpoints/crear-tablas-checkpoint.sql\n",
      ".ipynb_checkpoints/registros-ejemplo-checkpoint.mysql\n",
      ".ipynb_checkpoints/lst-checkpoint.ipynb\n",
      "estados-mx.sqlite3\n",
      "lst.py\n",
      "registros-ejemplo.sql\n",
      "crear-tablas.sql\n",
      "intel.mysql\n"
     ]
    }
   ],
   "source": [
    "import pathlib\n",
    "\n",
    "ruta_str = input(\"Escribe la carpeta \")\n",
    "ruta = pathlib.Path(ruta_str)\n",
    "archivos = obtener_archivos_texto(ruta)\n",
    "\n",
    "print(\"La lista de archivos de texto es:\")\n",
    "for nom in archivos:\n",
    "    print(nom)\n"
   ]
  },
  {
   "cell_type": "markdown",
   "id": "0baf93cf-cc10-4454-85a9-296c94b5f9a4",
   "metadata": {},
   "source": [
    "Así que nos falta crear la función `obtener_archivos_texto()`, así que vamos a ello:"
   ]
  },
  {
   "cell_type": "code",
   "execution_count": 6,
   "id": "e1cbbfc4-09b7-497c-a5a1-1fdfa1f2309d",
   "metadata": {},
   "outputs": [],
   "source": [
    "def obtener_archivos_texto(ruta):\n",
    "    \"\"\" Obtiene la lista de archivos de ruta y regresa sólo los que son\n",
    "    archivos de texto \"\"\"\n",
    "    archivos = []\n",
    "    for item in ruta.iterdir():\n",
    "        if item.is_file():\n",
    "            # Falta un if para preguntar si item es un archivo de texto  # Crear un función\n",
    "            archivos.append(item)\n",
    "        else:\n",
    "            lista_archivos_subruta = obtener_archivos_texto(item)  # <-ruta\n",
    "            archivos = archivos + lista_archivos_subruta\n",
    "    return archivos"
   ]
  },
  {
   "cell_type": "markdown",
   "id": "afa09200-83dc-44dd-9d0b-8fa72e8dc6ba",
   "metadata": {},
   "source": [
    "Se realizan algunos ensayos de como funciona el módulo `pathlib`:"
   ]
  },
  {
   "cell_type": "code",
   "execution_count": 5,
   "id": "32bea275-522d-42d9-8a31-9834933f669d",
   "metadata": {},
   "outputs": [
    {
     "data": {
      "text/plain": [
       "True"
      ]
     },
     "execution_count": 5,
     "metadata": {},
     "output_type": "execute_result"
    }
   ],
   "source": [
    "listarchs = list( ruta.iterdir() )\n",
    "listarchs[0].is_file()"
   ]
  }
 ],
 "metadata": {
  "kernelspec": {
   "display_name": "Python 3 (ipykernel)",
   "language": "python",
   "name": "python3"
  },
  "language_info": {
   "codemirror_mode": {
    "name": "ipython",
    "version": 3
   },
   "file_extension": ".py",
   "mimetype": "text/x-python",
   "name": "python",
   "nbconvert_exporter": "python",
   "pygments_lexer": "ipython3",
   "version": "3.11.4"
  }
 },
 "nbformat": 4,
 "nbformat_minor": 5
}
