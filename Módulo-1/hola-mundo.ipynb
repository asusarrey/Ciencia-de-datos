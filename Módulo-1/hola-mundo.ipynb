{
 "cells": [
  {
   "cell_type": "markdown",
   "id": "daee380d-c3b7-42f5-b7a7-653286874934",
   "metadata": {},
   "source": [
    "## Creando el hola mundo en Jupyter Lab\n",
    "\n",
    "A continuación vamos a crear una celda de código para el hola mundo"
   ]
  },
  {
   "cell_type": "code",
   "execution_count": 1,
   "id": "2c18fd9e-7404-4aa9-8360-2db4ab40c55d",
   "metadata": {},
   "outputs": [
    {
     "name": "stdout",
     "output_type": "stream",
     "text": [
      "Hola mundo!\n"
     ]
    }
   ],
   "source": [
    "print(\"Hola mundo!\")"
   ]
  },
  {
   "cell_type": "code",
   "execution_count": 2,
   "id": "7218eabb-dfec-44c4-a4c3-753c4cfaecf5",
   "metadata": {},
   "outputs": [
    {
     "name": "stdout",
     "output_type": "stream",
     "text": [
      "bienvenid@s al curso\n",
      "Espero les sea útil Jupyter Lab y Python\n"
     ]
    }
   ],
   "source": [
    "print(\"bienvenid@s al curso\")\n",
    "print(\"Espero les sea útil Jupyter Lab y Python\")"
   ]
  },
  {
   "cell_type": "code",
   "execution_count": null,
   "id": "e6372e43-d8d2-4ff8-afff-09a1c738b133",
   "metadata": {},
   "outputs": [],
   "source": []
  }
 ],
 "metadata": {
  "kernelspec": {
   "display_name": "Python 3 (ipykernel)",
   "language": "python",
   "name": "python3"
  },
  "language_info": {
   "codemirror_mode": {
    "name": "ipython",
    "version": 3
   },
   "file_extension": ".py",
   "mimetype": "text/x-python",
   "name": "python",
   "nbconvert_exporter": "python",
   "pygments_lexer": "ipython3",
   "version": "3.11.4"
  }
 },
 "nbformat": 4,
 "nbformat_minor": 5
}
