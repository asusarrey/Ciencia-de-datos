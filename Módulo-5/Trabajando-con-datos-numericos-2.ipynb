{
 "cells": [
  {
   "cell_type": "markdown",
   "id": "8db36c63-5c75-4b09-932a-165629ef2bd0",
   "metadata": {},
   "source": [
    "**Módulo 5:** Trabajando con datos numéricos tabulares - 2"
   ]
  },
  {
   "cell_type": "markdown",
   "id": "0518d5ef-1707-4606-9a42-218b8a76ad43",
   "metadata": {},
   "source": [
    "## Funciones de agregación y ordenamiento\n",
    "---"
   ]
  },
  {
   "cell_type": "markdown",
   "id": "55b7fa56-9fbd-4524-bf14-611e14d833d4",
   "metadata": {
    "editable": true,
    "slideshow": {
     "slide_type": ""
    },
    "tags": []
   },
   "source": [
    "### Funciones de agregación"
   ]
  },
  {
   "attachments": {},
   "cell_type": "markdown",
   "id": "39fc9db3-d65f-4813-9af7-60634c171410",
   "metadata": {},
   "source": [
    "Existen algunas funciones de Numpy que operan en todos los elementos del arreglo y regresan un sólo resultado, por ejemplo `np.sum()`, `np.max()`, `np.min()`, `np.mean()`, `np.std()`\n",
    "\n",
    "- [Referencia algunas funciones de suma y productos de agregación](https://numpy.org/doc/stable/reference/routines.math.html#sums-products-differences)\n",
    "- [Referencia a algunas funciones estadísticas](https://numpy.org/doc/stable/reference/routines.statistics.html#statistics)"
   ]
  },
  {
   "cell_type": "markdown",
   "id": "6fe6b40f-6d5f-4431-932d-f8330f6ae4dc",
   "metadata": {},
   "source": [
    "**Ejercicio:** Vamos a usar la misma muestra de datos del ejercios de los diámetros de las latas y vamos a aplicar algunas de las funciones mencionadas:"
   ]
  },
  {
   "cell_type": "code",
   "execution_count": null,
   "id": "623313c5-2a7e-47a7-84cd-12b8ffc3c3e7",
   "metadata": {},
   "outputs": [],
   "source": [
    "import numpy as np\n",
    "\n",
    "# Se genera una muestra de 500 medidas del diámetro de latas de aluminio\n",
    "# en el intervalor (4.85, 5.15) centímetros, calcula la desviasion estándar.\n",
    "a = 4.85\n",
    "b = 5.15\n",
    "muestra_radios = np.random.random_sample(500) * (b - a) + a\n",
    "muestra_radios[:20], muestra_radios.size"
   ]
  },
  {
   "cell_type": "markdown",
   "id": "0de09229-b111-41a6-9742-faea57759b7a",
   "metadata": {},
   "source": [
    "Obtengamos el dimáetro máximo:"
   ]
  },
  {
   "cell_type": "code",
   "execution_count": null,
   "id": "bca5a047-9f38-4310-bb40-926dc112b392",
   "metadata": {},
   "outputs": [],
   "source": [
    "..."
   ]
  },
  {
   "cell_type": "markdown",
   "id": "efe523ef-fedf-43e5-b0dc-b356e37bf009",
   "metadata": {},
   "source": [
    "Ahora el mínimo:"
   ]
  },
  {
   "cell_type": "code",
   "execution_count": null,
   "id": "70c53223-5892-401b-8ba5-94d28703ad4e",
   "metadata": {},
   "outputs": [],
   "source": [
    "..."
   ]
  },
  {
   "cell_type": "markdown",
   "id": "0e0637fe-8ea0-4ad1-b0c3-4597e9e219ea",
   "metadata": {},
   "source": [
    "Calculemos el diámetro promedio usando la función de `np.sum()`:"
   ]
  },
  {
   "cell_type": "code",
   "execution_count": null,
   "id": "beb88ae1-0fe2-4e48-bb71-abe45d4547ab",
   "metadata": {},
   "outputs": [],
   "source": [
    "..."
   ]
  },
  {
   "cell_type": "markdown",
   "id": "f849ec7d-5d16-4239-8693-79f5353746b8",
   "metadata": {},
   "source": [
    "Ahora el mismo promedio usando la función `np.average()`:"
   ]
  },
  {
   "cell_type": "code",
   "execution_count": null,
   "id": "01261b66-d35c-44a4-a2fc-19fe0c3ea721",
   "metadata": {},
   "outputs": [],
   "source": [
    "..."
   ]
  },
  {
   "cell_type": "markdown",
   "id": "30e5d449-af9d-48cf-9490-ce83e126d053",
   "metadata": {
    "editable": true,
    "slideshow": {
     "slide_type": ""
    },
    "tags": []
   },
   "source": [
    "### Ordenando arreglos"
   ]
  },
  {
   "cell_type": "markdown",
   "id": "6d0b07cd-63e4-40ef-9b03-32622112f261",
   "metadata": {},
   "source": [
    "Como los arreglos son similares a las listas tienen un orden los elementos así que se puede modificar ese orden, en particular se puede ordenar usando la función `np.sort()`:"
   ]
  },
  {
   "cell_type": "markdown",
   "id": "a619d00a-3f21-4cb4-8f98-04cbd8972653",
   "metadata": {},
   "source": [
    "Veamos primero los primeros 20 elementos de la muestra para observar que están en desorden:"
   ]
  },
  {
   "cell_type": "code",
   "execution_count": null,
   "id": "5f9c9767-479a-4715-a9f6-09d19d74c8e8",
   "metadata": {},
   "outputs": [],
   "source": [
    "muestra_radios[:20]"
   ]
  },
  {
   "cell_type": "markdown",
   "id": "9a445056-ae21-4732-89b2-8eae9751436d",
   "metadata": {},
   "source": [
    "Ahora ordenamos y observamos los primeros 20 nuevamente:"
   ]
  },
  {
   "cell_type": "code",
   "execution_count": null,
   "id": "eb5c2c67-9fca-4638-8e82-3b760a8d1531",
   "metadata": {},
   "outputs": [],
   "source": [
    "...\n",
    "muestra_radios[:20]"
   ]
  },
  {
   "cell_type": "markdown",
   "id": "4157563a-213e-4760-a789-93b0b264e84e",
   "metadata": {},
   "source": [
    "En automático se ha ordenado en forma ascendente y además se ha modificado el arreglo original, así hemos perdido el orden original de los datos, si no queremos perderlo hay que hacer una copia.\n",
    "\n",
    "Y si queremos ordenar de forma descendente usamos una de las dos formas:\n",
    "\n",
    "- Función `np.flip()`\n",
    "- Indexación negativa `array[::-1]`\n",
    "\n",
    "Y a diferencia de `np.sort()` estas operaciones no modifican el orden iriginal de arreglo."
   ]
  },
  {
   "cell_type": "code",
   "execution_count": null,
   "id": "ea408675-82a1-44e1-b8b5-44e72ace06d7",
   "metadata": {},
   "outputs": [],
   "source": [
    "..."
   ]
  },
  {
   "cell_type": "code",
   "execution_count": null,
   "id": "8d194b99-380a-4193-9f1c-46158318d0e2",
   "metadata": {},
   "outputs": [],
   "source": [
    "..."
   ]
  },
  {
   "cell_type": "markdown",
   "id": "b643d01e-912b-4622-910b-d51cc03fde2e",
   "metadata": {
    "editable": true,
    "slideshow": {
     "slide_type": ""
    },
    "tags": []
   },
   "source": [
    "## Almacenando y leyendo arreglos\n",
    "---"
   ]
  },
  {
   "cell_type": "markdown",
   "id": "50604543-994c-4b0a-99ce-d07a7f447d0f",
   "metadata": {},
   "source": [
    "si después de generar varias operaciones sobre la tabla de datos deseamos almacenar el arreglo resultante para uso posterior o  uso por otro proceso hay dos mecanismos que proporciona Numpy.\n",
    "\n",
    "El primero es por medio de las funciones `np.save(nombre_archivo, arreglo)`, `np.load(nombre_archivo)`.\n",
    "\n",
    "**Ejercicio:** Almacena el arreglo `muestra_radios` en el archivo `muestra_radios.npy` y luego recupera los datos en la variable `muestra`."
   ]
  },
  {
   "cell_type": "code",
   "execution_count": null,
   "id": "c88c46c8-68b4-4dc1-8d73-904d5ca5b161",
   "metadata": {},
   "outputs": [],
   "source": [
    "..."
   ]
  },
  {
   "cell_type": "markdown",
   "id": "858442db-905f-4ebd-9731-defb0e3ecce9",
   "metadata": {},
   "source": [
    "Ahora recuperamos el arreglo:"
   ]
  },
  {
   "cell_type": "code",
   "execution_count": null,
   "id": "df0845cf-0ef0-4b52-a709-4b520acc9c03",
   "metadata": {},
   "outputs": [],
   "source": [
    "muestra = ...\n",
    "muestra[:20], muestra.size"
   ]
  },
  {
   "cell_type": "markdown",
   "id": "43bfbbb3-4613-43d2-937c-e704cfa25a8e",
   "metadata": {},
   "source": [
    "La segunda forma es usando las funciones `np.savetxt(archivo, arreglo, delimiter=\" \")`, `np.loadtxt(archiv, delimiter=None, dtype=float)`\n",
    "\n",
    "**Ejercicio:** Almacena el arreglo `muestra_radios` en el archivo `muestra_radios.csv`:"
   ]
  },
  {
   "cell_type": "code",
   "execution_count": null,
   "id": "c66bd1e9-1030-4c1f-b1c7-45e296bdb991",
   "metadata": {},
   "outputs": [],
   "source": [
    "..."
   ]
  },
  {
   "cell_type": "markdown",
   "id": "f1aa5d58-0f21-4977-b1b6-85379cdc6838",
   "metadata": {},
   "source": [
    "**Ejercicio:** Lee los datos en del archivo `muestra_radios.csv` en la variable `tabla_radios`"
   ]
  },
  {
   "cell_type": "code",
   "execution_count": null,
   "id": "dad8cba6-5b7d-4d97-a30c-6e8d6dd62b6e",
   "metadata": {},
   "outputs": [],
   "source": [
    "tabla_radios = ...\n",
    "tabla_radios[:20]"
   ]
  }
 ],
 "metadata": {
  "kernelspec": {
   "display_name": "Python 3 (ipykernel)",
   "language": "python",
   "name": "python3"
  },
  "language_info": {
   "codemirror_mode": {
    "name": "ipython",
    "version": 3
   },
   "file_extension": ".py",
   "mimetype": "text/x-python",
   "name": "python",
   "nbconvert_exporter": "python",
   "pygments_lexer": "ipython3",
   "version": "3.11.4"
  }
 },
 "nbformat": 4,
 "nbformat_minor": 5
}
