{
 "cells": [
  {
   "cell_type": "markdown",
   "id": "2c96e857-bd31-4e68-8aec-def0a7ee0ce6",
   "metadata": {},
   "source": [
    "## Orden en diccionarios\n",
    "\n",
    "Según la documentación oficial de Python 3.11.5\n",
    "\n",
    "> Dictionaries preserve insertion order. Note that updating a key does not affect the order. Keys added after deletion are inserted at the end.\n",
    "> Changed in version 3.7: Dictionary order is guaranteed to be insertion order. This behavior was an implementation detail of CPython from 3.6.\n",
    "\n",
    "Ref: https://docs.python.org/3/library/stdtypes.html#mapping-types-dict\n",
    "\n",
    "Así que el orden de inserción se mantiene, veamos dos ejemplos:"
   ]
  },
  {
   "cell_type": "code",
   "execution_count": 7,
   "id": "0ca17b5f-c7c8-4454-ac83-d267a109f85f",
   "metadata": {},
   "outputs": [
    {
     "name": "stdout",
     "output_type": "stream",
     "text": [
      "{'uno': 1, 'dos': 2.5, 'tres': 'tres'}\n",
      "{'dos': 2.5, 'tres': 'tres', 'uno': 1}\n"
     ]
    }
   ],
   "source": [
    "d1 = dict(uno=1, dos=2.5, tres=\"tres\")\n",
    "d2 = dict(dos=2.5, tres=\"tres\", uno=1)\n",
    "\n",
    "print(d1)\n",
    "print(d2)"
   ]
  },
  {
   "cell_type": "markdown",
   "id": "d6237f52-8c09-47f2-afc7-866118046859",
   "metadata": {},
   "source": [
    "La lista de llaves, como los valores o las parejas llave:valor mantienen el orden de inserción:"
   ]
  },
  {
   "cell_type": "code",
   "execution_count": 4,
   "id": "2a54a53e-db1f-4f5e-af02-1fb1ee5eb07f",
   "metadata": {},
   "outputs": [
    {
     "name": "stdout",
     "output_type": "stream",
     "text": [
      "dict_keys(['uno', 'dos', 'tres'])\n",
      "dict_values([1, 2.5, 'tres'])\n",
      "dict_items([('uno', 1), ('dos', 2.5), ('tres', 'tres')])\n"
     ]
    }
   ],
   "source": [
    "print(d1.keys())\n",
    "print(d1.values())\n",
    "print(d1.items())"
   ]
  },
  {
   "cell_type": "markdown",
   "id": "77d16653-659b-4241-9880-8787f3837409",
   "metadata": {},
   "source": [
    "Si se elimina una llave y se agrega de nuevo se insertará al final:"
   ]
  },
  {
   "cell_type": "code",
   "execution_count": 8,
   "id": "84af0545-3d93-4ffc-87dc-c64f85fe32b5",
   "metadata": {},
   "outputs": [],
   "source": [
    "del( d1[\"dos\"] )"
   ]
  },
  {
   "cell_type": "code",
   "execution_count": 9,
   "id": "02c7901d-193c-4cbb-8d08-5d54065af893",
   "metadata": {},
   "outputs": [
    {
     "data": {
      "text/plain": [
       "{'uno': 1, 'tres': 'tres'}"
      ]
     },
     "execution_count": 9,
     "metadata": {},
     "output_type": "execute_result"
    }
   ],
   "source": [
    "d1"
   ]
  },
  {
   "cell_type": "code",
   "execution_count": 15,
   "id": "6c461900-9bdd-4213-8055-8be00d2ccda5",
   "metadata": {},
   "outputs": [
    {
     "data": {
      "text/plain": [
       "{'uno': 1, 'tres': 'tres', 'dos': 2.5}"
      ]
     },
     "execution_count": 15,
     "metadata": {},
     "output_type": "execute_result"
    }
   ],
   "source": [
    "d1[\"dos\"] = 2.5\n",
    "d1"
   ]
  },
  {
   "cell_type": "markdown",
   "id": "69430b35-46d2-4bd5-921b-b59894f216b8",
   "metadata": {},
   "source": [
    "Sim embargo al comparar dos diccionarios, son iguales si sus llaves y sus valores correspondientes son iguales, no importando el orden"
   ]
  },
  {
   "cell_type": "code",
   "execution_count": 16,
   "id": "56de57cc-83c1-4d47-a5e0-3347bebfd556",
   "metadata": {},
   "outputs": [
    {
     "data": {
      "text/plain": [
       "True"
      ]
     },
     "execution_count": 16,
     "metadata": {},
     "output_type": "execute_result"
    }
   ],
   "source": [
    "d1 == d2"
   ]
  },
  {
   "cell_type": "code",
   "execution_count": 17,
   "id": "eb04f3bc-d1f9-4e81-8395-89605d27fbc4",
   "metadata": {},
   "outputs": [
    {
     "name": "stdout",
     "output_type": "stream",
     "text": [
      "{'uno': 1, 'tres': 'tres', 'dos': 2.5}\n",
      "{'dos': 2.5, 'tres': 'tres', 'uno': 1}\n"
     ]
    }
   ],
   "source": [
    "print(d1)\n",
    "print(d2)"
   ]
  },
  {
   "cell_type": "markdown",
   "id": "9fcebb8c-2ebe-4777-96ca-33eb3dd8eb49",
   "metadata": {},
   "source": [
    "Y apartir de la versión Python 3.8 los diccionarios también son reversibles\n",
    "\n",
    "> Dictionaries and dictionary views are reversible.\n",
    "> Changed in version 3.8: Dictionaries are now reversible.\n",
    "\n",
    "Sin embargo no exísten índices aún para poder acceder a los elementos según el órden creado:"
   ]
  },
  {
   "cell_type": "code",
   "execution_count": 22,
   "id": "7ff25bce-d822-4fdf-b875-f38199325fbe",
   "metadata": {},
   "outputs": [
    {
     "data": {
      "text/plain": [
       "{'dos': 2.5, 'tres': 'tres', 'uno': 1}"
      ]
     },
     "execution_count": 22,
     "metadata": {},
     "output_type": "execute_result"
    }
   ],
   "source": [
    "dict( reversed( d1.items() ) )"
   ]
  },
  {
   "cell_type": "code",
   "execution_count": 27,
   "id": "896c520c-649c-4a3b-b1b1-d50b0a7d9550",
   "metadata": {},
   "outputs": [
    {
     "data": {
      "text/plain": [
       "dict_items([('uno', 1), ('tres', 'tres'), ('dos', 2.5)])"
      ]
     },
     "execution_count": 27,
     "metadata": {},
     "output_type": "execute_result"
    }
   ],
   "source": [
    "items = d1.items()\n",
    "items"
   ]
  },
  {
   "cell_type": "markdown",
   "id": "8706d4b8-68ff-4b02-9de3-a3b7d1252719",
   "metadata": {},
   "source": [
    "Pareciera que `items` es similar a una lista, así que debería haber índices comenzando en cero, pero:"
   ]
  },
  {
   "cell_type": "code",
   "execution_count": 28,
   "id": "8496dc54-3c87-4587-be76-d3eccd78600d",
   "metadata": {},
   "outputs": [
    {
     "ename": "TypeError",
     "evalue": "'dict_items' object is not subscriptable",
     "output_type": "error",
     "traceback": [
      "\u001b[0;31m---------------------------------------------------------------------------\u001b[0m",
      "\u001b[0;31mTypeError\u001b[0m                                 Traceback (most recent call last)",
      "Cell \u001b[0;32mIn[28], line 1\u001b[0m\n\u001b[0;32m----> 1\u001b[0m \u001b[43mitems\u001b[49m\u001b[43m[\u001b[49m\u001b[38;5;241;43m0\u001b[39;49m\u001b[43m]\u001b[49m\n",
      "\u001b[0;31mTypeError\u001b[0m: 'dict_items' object is not subscriptable"
     ]
    }
   ],
   "source": [
    "items[0]"
   ]
  },
  {
   "cell_type": "markdown",
   "id": "fcab27fb-2554-426e-879a-347954c8fc63",
   "metadata": {},
   "source": [
    "## El módulo `collections.OrderedDict`\n",
    "\n",
    "Debido a la falta de que los elementos en un diccionario mantuvieran un orden en el paquete `collections` de la librería estandar provee del módulo `OrderedDict` y aunque algunas operaciones han quedado obsoletas a partir de Python 3.7 otras funciones pueden ser de utilidad como que la comparación entre éste tipo de diccionarios también debe coincidir en el órden de los elementos.\n",
    "\n",
    "Refs: https://docs.python.org/3/library/collections.html#ordereddict-objects"
   ]
  },
  {
   "cell_type": "markdown",
   "id": "4e3a0fe8-4f52-47e0-bf55-30fc2677ff77",
   "metadata": {},
   "source": [
    "### A modo de conclusiones\n",
    "\n",
    "- Por lo tanto los elementos de un diccionario (llave:valor) mantienen un órden de inserción, pero al comparar diccionarios con distinto orden de inserción pero mismas llaves y valores los diccionarios resultantes resultan iguales.\n",
    "\n",
    "- Posiblemente una de las razones es cuando se procesaban las llaves por separado primero y luego los valores, antes no había certeza de que estuvieran en el mismo orden, así que siempre había que recorrer llaves y valores al mismo tiempo, ahora es posible recorrerlos por separado o hacer uso del tipo `OrderedDict`."
   ]
  }
 ],
 "metadata": {
  "kernelspec": {
   "display_name": "Python 3 (ipykernel)",
   "language": "python",
   "name": "python3"
  },
  "language_info": {
   "codemirror_mode": {
    "name": "ipython",
    "version": 3
   },
   "file_extension": ".py",
   "mimetype": "text/x-python",
   "name": "python",
   "nbconvert_exporter": "python",
   "pygments_lexer": "ipython3",
   "version": "3.11.4"
  }
 },
 "nbformat": 4,
 "nbformat_minor": 5
}
